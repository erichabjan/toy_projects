{
  "nbformat": 4,
  "nbformat_minor": 0,
  "metadata": {
    "colab": {
      "provenance": []
    },
    "kernelspec": {
      "name": "python3",
      "display_name": "Python 3"
    },
    "language_info": {
      "name": "python"
    }
  },
  "cells": [
    {
      "cell_type": "markdown",
      "source": [
        "Import Modules"
      ],
      "metadata": {
        "id": "zXwAjHIHprOU"
      }
    },
    {
      "cell_type": "code",
      "execution_count": null,
      "metadata": {
        "id": "tgQjB4Rfpj5l"
      },
      "outputs": [],
      "source": [
        "import numpy as np\n",
        "import matplotlib.pyplot as plt"
      ]
    },
    {
      "cell_type": "markdown",
      "source": [
        "# The code below creates a one dimensional, harmonic oscillating wave function"
      ],
      "metadata": {
        "id": "634YbUydqBNT"
      }
    },
    {
      "cell_type": "markdown",
      "source": [
        "Define planck's constant (hbar), the speed of light (c) and the mass of an electron (me)"
      ],
      "metadata": {
        "id": "PnjIwu5isOBY"
      }
    },
    {
      "cell_type": "code",
      "source": [
        "hbar = 4.14     # eV * fs\n",
        "c = 300         # nm / fs\n",
        "me = 5.68       # eV / (nm/fs) ** 2"
      ],
      "metadata": {
        "id": "I3d_3tDjsh5f"
      },
      "execution_count": null,
      "outputs": []
    },
    {
      "cell_type": "markdown",
      "source": [
        "The cell below defines the matrix for time"
      ],
      "metadata": {
        "id": "9lbedY6Qu1k1"
      }
    },
    {
      "cell_type": "code",
      "source": [
        "Nt = 100000\n",
        "dt = 0.1\n",
        "\n",
        "time = np.arange(0, Nt) * dt\n",
        "omega = 1\n",
        "\n",
        "time"
      ],
      "metadata": {
        "id": "d65XSbttf9Jd"
      },
      "execution_count": null,
      "outputs": []
    },
    {
      "cell_type": "markdown",
      "source": [
        "The code below defines the matrix for position"
      ],
      "metadata": {
        "id": "XGMx1gdz1H4T"
      }
    },
    {
      "cell_type": "code",
      "source": [
        "Nx = 2000\n",
        "dx = 0.01\n",
        "\n",
        "pos = np.arange(-Nx/2, Nx/2) * dx\n",
        "pos"
      ],
      "metadata": {
        "id": "f0fCYkbJswTJ"
      },
      "execution_count": null,
      "outputs": []
    },
    {
      "cell_type": "markdown",
      "source": [
        "The code below creates the potential matrix"
      ],
      "metadata": {
        "id": "R2arSBuqgHW2"
      }
    },
    {
      "cell_type": "code",
      "source": [
        "V = 0.5 * me * (omega ** 2)* pos ** 2\n",
        "V"
      ],
      "metadata": {
        "id": "zGjQCRgatqdn"
      },
      "execution_count": null,
      "outputs": []
    },
    {
      "cell_type": "markdown",
      "source": [
        "The code below creates the momentum matrix"
      ],
      "metadata": {
        "id": "_3oWyC8g9Diy"
      }
    },
    {
      "cell_type": "code",
      "source": [
        "dp = (2 * np.pi * hbar) / (Nx * dx)\n",
        "\n",
        "P = np.array([j for j in range(0, int(Nx / 2))] + [j for j in range(-int(Nx / 2), 0)]) * dp\n",
        "P"
      ],
      "metadata": {
        "id": "HLFZPgKXhobU"
      },
      "execution_count": null,
      "outputs": []
    },
    {
      "cell_type": "markdown",
      "source": [
        "Define the exponential potentential for the split operator model"
      ],
      "metadata": {
        "id": "YZCVNDc9Bbmu"
      }
    },
    {
      "cell_type": "code",
      "source": [
        "expV = np.exp((-complex(0,1) * V * dt) / (hbar * 2))"
      ],
      "metadata": {
        "id": "9VKPPXWo-HLU"
      },
      "execution_count": null,
      "outputs": []
    },
    {
      "cell_type": "markdown",
      "source": [
        "Define the exponential momentum for the split operator model"
      ],
      "metadata": {
        "id": "GD_cNuAGBo0R"
      }
    },
    {
      "cell_type": "code",
      "source": [
        "expP = np.exp((-complex(0,1) * (P ** 2) * dt)/ (2 * me * hbar))"
      ],
      "metadata": {
        "id": "t2n2atJfBv-3"
      },
      "execution_count": null,
      "outputs": []
    },
    {
      "cell_type": "markdown",
      "source": [
        "The code below creates the wave function array and puts the inital wave function in array"
      ],
      "metadata": {
        "id": "_2rlYSn7FONM"
      }
    },
    {
      "cell_type": "code",
      "source": [
        "wave = np.zeros(len(time) * len(pos), dtype = 'complex_').reshape(len(time), len(pos))\n",
        "center = 4\n",
        "width = np.sqrt(hbar / (2 * me * omega))\n",
        "A = ((me*omega)/(np.pi*hbar)) ** 1/4\n",
        "wave0 = A * np.exp((-1 * me * omega * (pos - center) ** 2) / (hbar * 2))\n",
        "#wave0 = A * np.exp((-(pos - center) ** 2) / width ** 2)\n",
        "wave[0] = wave0 / np.sqrt(abs(wave0) ** 2).sum()"
      ],
      "metadata": {
        "id": "J3Kz_SqKEnrm"
      },
      "execution_count": null,
      "outputs": []
    },
    {
      "cell_type": "markdown",
      "source": [
        "The code below iterates through each dt state and creates a new wave value using the split operator method"
      ],
      "metadata": {
        "id": "-B1BhN4Qtq-u"
      }
    },
    {
      "cell_type": "code",
      "source": [
        "for i in range(1, len(time)):\n",
        "  wave[i] = wave[i - 1] * expV\n",
        "  wave[i] = np.fft.fft(wave[i])\n",
        "  wave[i] = wave[i] * expP\n",
        "  wave[i] = np.fft.ifft(wave[i])\n",
        "  wave[i] = wave[i] * expV"
      ],
      "metadata": {
        "id": "fH3LGU64uA5m"
      },
      "execution_count": null,
      "outputs": []
    },
    {
      "cell_type": "markdown",
      "source": [
        "The code below plots the probability of two waves"
      ],
      "metadata": {
        "id": "gnsf9s7esW6A"
      }
    },
    {
      "cell_type": "code",
      "source": [
        "waveval = 5000\n",
        "fig = plt.figure()\n",
        "fig.set_size_inches(12, 8)\n",
        "ax1 = fig.add_subplot(111)\n",
        "\n",
        "ax1.plot(pos, wave[0] * np.conj(wave[0]), c='k', label='Psi 0')\n",
        "ax1.plot(pos, wave[waveval] * np.conj(wave[waveval]), '--', c='k' ,label=f'Psi {waveval}')\n",
        "\n",
        "plt.title('Probability Distribution of Harmonic Oscillating particle')\n",
        "plt.xlabel('Position of particle')\n",
        "plt.ylabel('Probability of position')\n",
        "plt.legend(loc='upper left');\n",
        "\n",
        "plt.show()"
      ],
      "metadata": {
        "id": "Vn2Yl3Wbp04i"
      },
      "execution_count": null,
      "outputs": []
    },
    {
      "cell_type": "markdown",
      "source": [
        "The code below plots the expectation value of the position of the particle over time"
      ],
      "metadata": {
        "id": "DSD92_QQ4hus"
      }
    },
    {
      "cell_type": "code",
      "source": [
        "prob = wave * np.conj(wave)\n",
        "expectlist = np.array([(prob[i] * pos).sum() for i in range(len(time))])\n",
        "\n",
        "fig = plt.figure()\n",
        "fig.set_size_inches(12, 8)\n",
        "\n",
        "plt.plot(time, expectlist, c='k', label='Psi 0')\n",
        "plt.title('Expectation Value of the Particle Over Time')\n",
        "plt.xlabel('Time')\n",
        "plt.ylabel('Probability of position')\n",
        "plt.grid()\n",
        "plt.xlim([0, Nt * dt * 0.01])\n",
        "plt.ylim([-0.05,0.05])\n",
        "\n",
        "plt.show()"
      ],
      "metadata": {
        "id": "qFOfsD5sv189"
      },
      "execution_count": null,
      "outputs": []
    },
    {
      "cell_type": "markdown",
      "source": [
        "# Energy of Stationary States"
      ],
      "metadata": {
        "id": "T7SAvi-2u6ZC"
      }
    },
    {
      "cell_type": "code",
      "source": [
        "# Take complex values out of the split operators by tao = i * t and integrate in imaginary time\n",
        "# A plot of these waves will dampen over time with as the operators are decaying exponentials\n",
        "# We need to add a step to renormalize the wave function after each step by a factor 1 / sqrt(psi * conj(psi))\n",
        "# Total energy is greater than the ground statee: E = <H> = <psi|H|psi> >  E0  which is equivalent to En+1 - En < epsilon\n",
        "# When calculating E: Do the split operators, take i out of the operators, do fourier transforms, normalize the waves function after each step"
      ],
      "metadata": {
        "id": "R5Q2NbN6u8k3"
      },
      "execution_count": null,
      "outputs": []
    },
    {
      "cell_type": "markdown",
      "source": [
        "Define non complex split operators"
      ],
      "metadata": {
        "id": "anly-iN36tR4"
      }
    },
    {
      "cell_type": "code",
      "source": [
        "realexpV = np.exp((-1 * V * dt) / (hbar * 2))\n",
        "realexpP = np.exp((-1 * (P ** 2) * dt)/ (2 * me * hbar))"
      ],
      "metadata": {
        "id": "hEw9eh0d6nZD"
      },
      "execution_count": null,
      "outputs": []
    },
    {
      "cell_type": "markdown",
      "source": [
        "Define energy function"
      ],
      "metadata": {
        "id": "hpplSFUq9uc6"
      }
    },
    {
      "cell_type": "code",
      "source": [
        "def energy(psi, potop, momop, xstep, pstep, mass):\n",
        "  PE = np.array(psi * np.conj(psi) * potop).sum() * xstep / np.array(psi * np.conj(psi)* xstep).sum() #* np.sqrt(len(psi)))\n",
        "  psi = np.fft.fft(psi)\n",
        "  KE = np.array(psi * np.conj(psi) * (momop ** 2)).sum() * (1/(2*mass)) * pstep / np.array(psi * np.conj(psi)* pstep).sum() #* np.sqrt(len(psi)))\n",
        "  energy = KE + PE\n",
        "  return energy"
      ],
      "metadata": {
        "id": "SSY9PjQa9trc"
      },
      "execution_count": null,
      "outputs": []
    },
    {
      "cell_type": "markdown",
      "source": [
        "Create an initial wave with completely random integers"
      ],
      "metadata": {
        "id": "9I9z3d1o5uTc"
      }
    },
    {
      "cell_type": "code",
      "source": [
        "import random\n",
        "\n",
        "initwave = np.array([random.randint(1, 100) for i in range(2000)])"
      ],
      "metadata": {
        "id": "z65i9rEkfdNn"
      },
      "execution_count": null,
      "outputs": []
    },
    {
      "cell_type": "markdown",
      "source": [
        "The code below prints the first ten expected energy values"
      ],
      "metadata": {
        "id": "RM-fMTrLYhuZ"
      }
    },
    {
      "cell_type": "code",
      "source": [
        "for i in range(10):\n",
        "  print(((hbar * omega)/2) + i*hbar*omega"
      ],
      "metadata": {
        "id": "zVK93skWk7CV"
      },
      "execution_count": null,
      "outputs": []
    },
    {
      "cell_type": "markdown",
      "source": [
        "This code finds the ground state energy and varies the epsilon value to see how the groud state energy is impacted"
      ],
      "metadata": {
        "id": "Mei_Uyem6ZQZ"
      }
    },
    {
      "cell_type": "code",
      "source": [
        "eplist = np.array([10 ** (-1* 0.5 * i) for i in range(5, 20)])\n",
        "\n",
        "for i in range(len(eplist)):\n",
        "  epsilon = eplist[i]\n",
        "  wave = initwave\n",
        "  count = 0\n",
        "  Ep = 1\n",
        "  while Ep > epsilon:\n",
        "    prevwave = wave\n",
        "    wave = np.fft.ifft(np.fft.fft(wave * realexpV) * realexpP) * realexpV\n",
        "    wave = wave / np.sqrt( ((abs(wave))** 2 * dx).sum() )\n",
        "    Ep = ((prevwave * np.conj(prevwave) - wave * np.conj(wave)) ** 2).sum()\n",
        "    count += 1\n",
        "  if i == 0:\n",
        "    energylist = np.array(energy(wave, V, P, dx, dp, me))\n",
        "  else:\n",
        "    energylist = np.append(energylist, energy(wave, V, P, dx, dp, me))"
      ],
      "metadata": {
        "id": "pUQgZk6YaVrO"
      },
      "execution_count": null,
      "outputs": []
    },
    {
      "cell_type": "markdown",
      "source": [
        "The code plots the ground state energy as a function of epsilon"
      ],
      "metadata": {
        "id": "DoOYLggrSU2g"
      }
    },
    {
      "cell_type": "code",
      "source": [
        "fig = plt.figure()\n",
        "fig.set_size_inches(12, 8)\n",
        "ax1 = fig.add_subplot(111)\n",
        "\n",
        "ax1.plot(eplist, energylist, label='Calculated Ground State Energy')\n",
        "ax1.axhline((hbar * omega)/2, color='r', linestyle='--', label='Known Ground State Energy')\n",
        "\n",
        "plt.xlim([10 ** -7,10 ** -2])\n",
        "plt.ylim([2.069,2.076])\n",
        "plt.title('Epsilon affecting Error in Ground State Energy')\n",
        "plt.xlabel('Epsilon')\n",
        "plt.ylabel('Energy (eV)')\n",
        "plt.xscale('log')\n",
        "plt.legend(loc='upper left');\n",
        "plt.show()"
      ],
      "metadata": {
        "id": "u49EbHnqsWJL"
      },
      "execution_count": null,
      "outputs": []
    },
    {
      "cell_type": "markdown",
      "source": [
        "The code below is used to compare the probability distributions of different waves from the time propagation"
      ],
      "metadata": {
        "id": "YoSsQxUeXww1"
      }
    },
    {
      "cell_type": "code",
      "source": [
        "fig = plt.figure()\n",
        "fig.set_size_inches(12, 8)\n",
        "ax1 = fig.add_subplot(111)\n",
        "\n",
        "A = ((me * omega)/ (np.pi * hbar)) ** 0.25\n",
        "analytic = A * np.exp((- (((me * omega)/ hbar) ** 0.5 * pos) ** 2) / 2)\n",
        "\n",
        "ax1.plot(pos, analytic * np.conj(analytic), c='k', label='Analytic Solution')\n",
        "ax1.plot(pos, wave * np.conj(wave), '--', c='red' ,label=f'Found Ground State')\n",
        "\n",
        "plt.title('Probability Distribution of Harmonic Oscillating particle')\n",
        "plt.xlabel('Position of particle')\n",
        "plt.ylabel('Probability of position')\n",
        "plt.xlim([-10,10])\n",
        "plt.legend(loc='upper left');\n",
        "\n",
        "plt.show()"
      ],
      "metadata": {
        "id": "rl2dD32T2sVd"
      },
      "execution_count": null,
      "outputs": []
    },
    {
      "cell_type": "markdown",
      "source": [
        "The code below finds ns energy levels of the harmonic oscillator"
      ],
      "metadata": {
        "id": "W_dSLljlbnUw"
      }
    },
    {
      "cell_type": "code",
      "source": [
        "epsilon = 10 ** -15\n",
        "NS = 8\n",
        "\n",
        "for s in range(NS):\n",
        "  wave = initwave\n",
        "  Ep = 1\n",
        "  count = 0\n",
        "  while Ep > epsilon:\n",
        "    prevwave = wave\n",
        "    wave = np.fft.ifft(np.fft.fft(wave * realexpV) * realexpP) * realexpV\n",
        "    for j in range(s):\n",
        "      wave = wave - (np.conj(wavestates[j]) * wave).sum() * dx * wavestates[j]\n",
        "    wave = wave / np.sqrt( ((abs(wave))** 2 * dx).sum() )\n",
        "    Ep = ((prevwave * np.conj(prevwave) - wave * np.conj(wave)) ** 2).sum()   #test how wave and the ground state of the analytic function differ for different epsilons\n",
        "    count += 1\n",
        "  print(f'For state {s}, {count} iterations were required')\n",
        "  if s == 0:\n",
        "    wavestates = np.array([wave])\n",
        "  else:\n",
        "    wavestates = np.vstack([wavestates, wave])\n",
        "\n",
        "print(f'{len(wavestates)} Energy states of the harmonic oscillator were found')"
      ],
      "metadata": {
        "id": "tQ-ZD67fgLm8"
      },
      "execution_count": null,
      "outputs": []
    },
    {
      "cell_type": "code",
      "source": [
        "fig = plt.figure()\n",
        "fig.set_size_inches(12, 8)\n",
        "ax1 = fig.add_subplot(111)\n",
        "colors = ['blue' , 'green', 'red', 'cyan', 'magenta', 'yellow', 'black']\n",
        "\n",
        "for i in range(len(wavestates) - 1):\n",
        "  ax1.plot(pos, wavestates[i].real, '-', c= colors[i] ,label=f'Energy level {i}')\n",
        "\n",
        "plt.title('Ground State and Excited State Wave Functions')\n",
        "plt.xlabel('Position of particle')\n",
        "plt.ylabel('Probability of position')\n",
        "plt.xlim([-10,10])\n",
        "plt.legend(loc='upper left');\n",
        "\n",
        "plt.show()"
      ],
      "metadata": {
        "id": "KaKI9_UAmdzi"
      },
      "execution_count": null,
      "outputs": []
    },
    {
      "cell_type": "markdown",
      "source": [
        "The code below varies dx and produces varying ground state energies"
      ],
      "metadata": {
        "id": "_fDpx-JteuJp"
      }
    },
    {
      "cell_type": "code",
      "source": [
        "dxlist = np.array([10 ** (-1 * 0.001 * i) for i in range(-400, 0)] + [10 ** (-1 * 0.125 * i) for i in range(0, 20)])\n",
        "epsilon = 10 ** -8\n",
        "deletelist = np.array([])\n",
        "energylistdx = np.array([])\n",
        "listdx = np.array([])\n",
        "\n",
        "for i in range(len(dxlist)):\n",
        "  dx = dxlist[i]\n",
        "  pos = np.arange(-10, 10, dx)\n",
        "  V = 0.5 * me * (omega ** 2)* pos ** 2\n",
        "  dp = (2 * np.pi * hbar) / (len(pos) * dx)\n",
        "  P = np.array([j for j in range(0, int(len(pos) / 2))] + [j for j in range(-int(len(pos) / 2), 0)]) * dp\n",
        "  if len(pos) != len(P):\n",
        "    continue\n",
        "  realexpV = np.exp((-1 * V * dt) / (hbar * 2))\n",
        "  realexpP = np.exp((-1 * (P ** 2) * dt)/ (2 * me * hbar))\n",
        "  wave = np.array([random.randint(1, 100) for i in range(len(pos))])\n",
        "  count = 0\n",
        "  Ep = 1\n",
        "  while Ep > epsilon:\n",
        "    prevwave = wave\n",
        "    wave = np.fft.ifft(np.fft.fft(wave * realexpV) * realexpP) * realexpV\n",
        "    wave = wave / np.sqrt( ((abs(wave))** 2 * dx).sum() )\n",
        "    Ep = ((prevwave * np.conj(prevwave) - wave * np.conj(wave)) ** 2).sum()\n",
        "    count += 1\n",
        "  #if energy(wave, V, P, dx, dp, me) < (hbar * omega)/2:\n",
        "   # continue\n",
        "  energylistdx = np.append(energylistdx, energy(wave, V, P, dx, dp, me))\n",
        "  listdx = np.append(listdx, dxlist[i])"
      ],
      "metadata": {
        "id": "75249fgse1cr"
      },
      "execution_count": null,
      "outputs": []
    },
    {
      "cell_type": "markdown",
      "source": [
        "The code below plots the ground state energies as a function of dx"
      ],
      "metadata": {
        "id": "0r4xNm2lff5O"
      }
    },
    {
      "cell_type": "code",
      "source": [
        "fig = plt.figure()\n",
        "fig.set_size_inches(12, 8)\n",
        "ax1 = fig.add_subplot(111)\n",
        "\n",
        "ax1.axhline((hbar * omega)/2, color='r', linestyle='--', label='Known Ground State Energy')\n",
        "ax1.plot(listdx, energylistdx, label='Calculated Ground State Energy')\n",
        "\n",
        "plt.xlim([0.1,1.5])\n",
        "plt.ylim([1.75,2.25])\n",
        "plt.title('dx affecting Error in Ground State Energy')\n",
        "plt.xlabel('dx (nm)')\n",
        "plt.ylabel('Energy (eV)')\n",
        "plt.legend(loc='upper left');\n",
        "plt.show()"
      ],
      "metadata": {
        "id": "u8pj_6jcfknQ"
      },
      "execution_count": null,
      "outputs": []
    }
  ]
}