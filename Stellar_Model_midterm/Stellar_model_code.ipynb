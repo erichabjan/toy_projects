{
  "nbformat": 4,
  "nbformat_minor": 0,
  "metadata": {
    "colab": {
      "provenance": []
    },
    "kernelspec": {
      "name": "python3",
      "display_name": "Python 3"
    },
    "language_info": {
      "name": "python"
    }
  },
  "cells": [
    {
      "cell_type": "code",
      "execution_count": null,
      "metadata": {
        "id": "6gPIl202hFEO"
      },
      "outputs": [],
      "source": [
        "import numpy as np\n",
        "import matplotlib.pyplot as plt"
      ]
    },
    {
      "cell_type": "markdown",
      "source": [
        "# Question 1"
      ],
      "metadata": {
        "id": "HDuMDWvghOyD"
      }
    },
    {
      "cell_type": "code",
      "source": [
        "Rsirius = 5840 * 10**5      #radius in cm\n",
        "p0sirius = 6.19 * 10**6     #density in g cm^-3\n",
        "G = 6.67 * 10**-8\n",
        "iter = 10**3\n",
        "rlist = np.linspace(0.1, Rsirius, iter)   #list of radius values with equal spacing, starting at r=0\n",
        "density = np.zeros(iter)\n",
        "density[0] = p0sirius\n",
        "mass = np.zeros(iter)\n",
        "press = np.zeros(iter)\n",
        "press[0] = 10**13 * (p0sirius/2)**(5/3)\n",
        "delr = Rsirius / iter"
      ],
      "metadata": {
        "id": "eUW_Slh26bNl"
      },
      "execution_count": null,
      "outputs": []
    },
    {
      "cell_type": "code",
      "source": [
        "denpress = lambda pressure: 2 * (pressure / 10**13)**(3/5)      #Knr = 10**13 and mue = 2 for an ionized metal\n",
        "\n",
        "for i in range(1, iter):\n",
        "  delm = 4 * np.pi * rlist[i]**2 * delr * density[i-1]\n",
        "  mass[i] = mass[i-1] + delm\n",
        "  delP = -(G*mass[i]*density[i-1]*delr)/(rlist[i]**2)\n",
        "  press[i] = press[i-1] + delP\n",
        "  density[i] = denpress(press[i])"
      ],
      "metadata": {
        "id": "ON7xLkA6voHL"
      },
      "execution_count": null,
      "outputs": []
    },
    {
      "cell_type": "code",
      "source": [
        "fig, ax = plt.subplots(figsize = (6, 8))\n",
        "\n",
        "ax.scatter(rlist, mass, color = 'g', marker ='.')\n",
        "ax.set_ylim(0, np.max(mass) + 0.1*np.max(mass))\n",
        "ax.set_xlim(0, np.max(rlist)+ 0.1*np.max(rlist))\n",
        "\n",
        "plt.xlabel('Radius [cm]')\n",
        "plt.ylabel('Mass [g]')\n",
        "plt.title('Enclosed Mass Profile of Sirius B')"
      ],
      "metadata": {
        "id": "Jxf8I7tcOIqb"
      },
      "execution_count": null,
      "outputs": []
    },
    {
      "cell_type": "code",
      "source": [
        "fig, ax = plt.subplots(figsize = (6, 8))\n",
        "\n",
        "ax.scatter(rlist, density, color = 'g', marker ='.')\n",
        "ax.set_ylim(0, np.max(density) + np.max(density)*0.1)\n",
        "ax.set_xlim(0, np.max(rlist) + 0.1*np.max(rlist))\n",
        "\n",
        "plt.xlabel('Radius [cm]')\n",
        "plt.ylabel(r'Density [$\\frac{g}{cm^{3}}$]')\n",
        "plt.title('Density as a Fucntion of Radius in Sirius B')"
      ],
      "metadata": {
        "id": "xKaHkpNeRH4W"
      },
      "execution_count": null,
      "outputs": []
    },
    {
      "cell_type": "markdown",
      "source": [
        "# Question 2"
      ],
      "metadata": {
        "id": "Z-S8NFlOIsi5"
      }
    },
    {
      "cell_type": "code",
      "source": [
        "N = 10**3\n",
        "rad = np.linspace(0.1, 6.957 * 10**10, N)\n",
        "delrad = np.max(rad)/N\n",
        "mass = np.zeros(N)\n",
        "lumin = np.zeros(N)\n",
        "temps = np.zeros(N)\n",
        "temps[0] = 1.47 * 10**7         #R=0 Temp in Kelvin\n",
        "density = np.zeros(N)\n",
        "density[0] = 149                #R=0 Density in g cm^-3\n",
        "hydrofrac = 0.7                 #Fraction of Hydrogen in the sun\n",
        "kes = 0.20*(1 + hydrofrac)\n",
        "stefbolt = 5.67 * 10**-5        #Stefan-Boltzmann constant\n",
        "nucener = 1.73 * 10**-5         #Nuclear energy from pp chain\n",
        "hmass = 1.67 * 10**-24          #Hydrogen Mass\n",
        "mu = 1/(2*hydrofrac + 0.75*0.28 + 0.5*0.02) #mu for mass per particle\n",
        "boltz = 1.381 * 10**-16         #Boltzmann constant\n",
        "G = 6.67 * 10**-8\n",
        "press = np.zeros(N)\n",
        "press[0] = (density[0] * boltz * temps[0]) / (mu * hmass)"
      ],
      "metadata": {
        "id": "GGV1YouO9FIp"
      },
      "execution_count": null,
      "outputs": []
    },
    {
      "cell_type": "code",
      "source": [
        "for i in range(1, N):\n",
        "  engen = nucener * hydrofrac**2 * density[i-1] * (temps[i-1]/10**6)**4\n",
        "  dellum = 4 * np.pi * rad[i]**2 * density[i-1] * engen * delrad\n",
        "  lumin[i] = lumin[i-1] + dellum\n",
        "  deltemp = - (3 * kes * density[i-1] * lumin[i-1] * delrad) / (64 * np.pi * stefbolt * temps[i-1]**3 * rad[i]**2)\n",
        "  temps[i] = temps[i-1] + deltemp\n",
        "  density[i] = (press[i-1] * mu * hmass) / (boltz * temps[i-1])\n",
        "  delpress = -(G * mass[i-1] * density[i-1] * delrad) / (rad[i]**2)\n",
        "  press[i] = press[i-1] + delpress\n",
        "  delm = 4 * np.pi * rad[i]**2 * density[i-1] * delrad\n",
        "  mass[i] = mass[i-1] + delm"
      ],
      "metadata": {
        "id": "7Wu0BKZleTdC"
      },
      "execution_count": null,
      "outputs": []
    },
    {
      "cell_type": "code",
      "source": [
        "fig, ax = plt.subplots(figsize = (6, 8))\n",
        "\n",
        "ax.scatter(rad, mass, color = 'g', marker ='.')\n",
        "ax.set_ylim(0, np.max(mass) + 0.1*np.max(mass))\n",
        "ax.set_xlim(0, np.max(rad) + 0.1*np.max(rad))\n",
        "\n",
        "plt.xlabel('Radius [cm]')\n",
        "plt.ylabel('Mass [g]')\n",
        "plt.title('Enclosed Mass Profile of the Sun')"
      ],
      "metadata": {
        "id": "d6on2mY8Ss8i"
      },
      "execution_count": null,
      "outputs": []
    },
    {
      "cell_type": "code",
      "source": [
        "fig, ax = plt.subplots(figsize = (6, 8))\n",
        "\n",
        "ax.scatter(rad, density, color = 'g', marker ='.')\n",
        "ax.set_ylim(0, np.max(density) + 0.1*np.max(density))\n",
        "ax.set_xlim(0, np.max(rad) + 0.1*np.max(rad))\n",
        "\n",
        "plt.xlabel('Radius [cm]')\n",
        "plt.ylabel(r'Density [$\\frac{g}{cm^{3}}$]')\n",
        "plt.title('Density of the Sun with respect to Radius')"
      ],
      "metadata": {
        "id": "9JGid1pqS4lh"
      },
      "execution_count": null,
      "outputs": []
    },
    {
      "cell_type": "code",
      "source": [
        "fig, ax = plt.subplots(figsize = (6, 8))\n",
        "\n",
        "ax.scatter(rad, temps, color = 'g', marker ='.')\n",
        "ax.set_ylim(np.min(temps) - 0.1*np.min(temps), np.max(temps) + 0.1*np.max(temps))\n",
        "ax.set_xlim(0, np.max(rad) + 0.1*np.max(rad))\n",
        "\n",
        "plt.xlabel('Radius [cm]')\n",
        "plt.ylabel('Temperature [K]')\n",
        "plt.title('Temperature of the Sun with respect to Radius')"
      ],
      "metadata": {
        "id": "hr-_cJHxS6Aq"
      },
      "execution_count": null,
      "outputs": []
    },
    {
      "cell_type": "markdown",
      "source": [
        "# Question 3"
      ],
      "metadata": {
        "id": "kRcqECH9e4Q5"
      }
    },
    {
      "cell_type": "code",
      "source": [
        "dlogTdlogP = 2 / 5\n",
        "radconv1 = np.zeros(N)\n",
        "\n",
        "for i in range(N):\n",
        "  compval = (3 * press[i] * kes * lumin[i]) / (64 * np.pi * stefbolt * G * temps[i]**4 * mass[i])\n",
        "  if compval >= dlogTdlogP:\n",
        "    radconv1[i] = rad[i]\n",
        "  else:\n",
        "    radconv1[i] = np.nan"
      ],
      "metadata": {
        "id": "OKjPMlx_WYoo"
      },
      "execution_count": null,
      "outputs": []
    },
    {
      "cell_type": "code",
      "source": [
        "radconv2 = np.zeros(N)\n",
        "\n",
        "for i in range(1, N):\n",
        "  compval = (3 * press[i] * kes * lumin[i]) / (64 * np.pi * stefbolt * G * temps[i]**4 * mass[i])\n",
        "  dlogT = np.log10(temps[i-1]) - np.log10(temps[i])\n",
        "  dlogP = np.log10(press[i-1]) - np.log10(press[i])\n",
        "  if compval >= dlogT/dlogP:\n",
        "    radconv2[i] = rad[i]\n",
        "  else:\n",
        "    radconv2[i] = np.nan"
      ],
      "metadata": {
        "id": "fYvUHNcB4dhq"
      },
      "execution_count": null,
      "outputs": []
    },
    {
      "cell_type": "code",
      "source": [
        "fig, ax = plt.subplots(figsize = (6, 8))\n",
        "\n",
        "ax.scatter(radconv2, mass, color = 'blue', marker ='o', s=300,  label='Convective Regions: Using Difference Equations')\n",
        "ax.scatter(radconv1, mass, color = 'r', marker ='o', s=100, label='Convective Regions: Adiabatic Constant = 2/5')\n",
        "ax.scatter(rad, mass, color = 'g', marker ='.', label='All Radii')\n",
        "ax.set_ylim(float(-5*10**31), float(2 * 10**33))\n",
        "ax.set_xlim(-2*10**9, np.max(rad) + 0.1*np.max(rad))\n",
        "\n",
        "plt.xlabel('Radius [cm]')\n",
        "plt.ylabel('Mass [g]')\n",
        "plt.legend(loc='lower right')\n",
        "plt.title('Convecting Regions in the Sun')"
      ],
      "metadata": {
        "id": "lFRkPziajF9k"
      },
      "execution_count": null,
      "outputs": []
    },
    {
      "cell_type": "markdown",
      "source": [
        "# Question 4"
      ],
      "metadata": {
        "id": "fbHQM1vZ7r0I"
      }
    },
    {
      "cell_type": "code",
      "source": [
        "T = np.linspace(0.1, 50000000, num=10000)\n",
        "T2 = np.linspace(0.1, 50000000, num=20000)\n",
        "mu = 0.5      #Under the condition of purely ionized hydrogen\n",
        "k = 1.38 * 10**-16\n",
        "mh = 1.67 * 10**-24\n",
        "c = 3 * 10**10\n",
        "stef = 5.67 * 10 **-5\n",
        "me = 9.1 * 10**-28\n",
        "mue = 1        #Under the condition of a purely ionized hydrogen star\n",
        "h = 6.626 * 10**-27\n",
        "knr = 10**13\n",
        "\n",
        "dengasrad = (4*mu*mh*stef*T**3)/(3*k*c)\n",
        "dengase = ((k * T * mue**5/3) / (mu * mh * knr)) ** 1.5\n",
        "logt = np.log10(T)\n",
        "loggr = np.log10(dengasrad)\n",
        "logge = np.log10(dengase)"
      ],
      "metadata": {
        "id": "REWpoT_75Owj"
      },
      "execution_count": null,
      "outputs": []
    },
    {
      "cell_type": "code",
      "source": [
        "fig, ax = plt.subplots(figsize = (6, 8))\n",
        "\n",
        "ax.plot(logt, loggr, color = 'g', label = 'Pgas = Prad')\n",
        "ax.plot(logt, logge, color = 'red', label = 'Pgas = Pe')\n",
        "ax.set_ylim(-25, 4)\n",
        "ax.set_xlim(-1, 7.5)\n",
        "\n",
        "plt.annotate('Radiation Pressure Dominated', xy=(3, -20))\n",
        "plt.annotate('Gas Pressure Dominated', xy=(0, -10))\n",
        "plt.annotate('Electron Degeneracy Pressure Dominated', xy=(0, 2))\n",
        "\n",
        "plt.legend(loc='lower right')\n",
        "plt.xlabel(r'Temperature [K]')\n",
        "plt.ylabel(r'Density [$\\frac{g}{cm^{3}}$]')\n",
        "plt.title('Pressure Systems in a Star')"
      ],
      "metadata": {
        "id": "oBLvdR15A9DN"
      },
      "execution_count": null,
      "outputs": []
    }
  ]
}